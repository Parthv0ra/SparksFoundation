{
  "nbformat": 4,
  "nbformat_minor": 0,
  "metadata": {
    "colab": {
      "name": "task1.ipynb",
      "provenance": [],
      "collapsed_sections": [],
      "authorship_tag": "ABX9TyNrQpuKyj/ly9xbBjHdwmHz",
      "include_colab_link": true
    },
    "kernelspec": {
      "name": "python3",
      "display_name": "Python 3"
    },
    "language_info": {
      "name": "python"
    }
  },
  "cells": [
    {
      "cell_type": "markdown",
      "metadata": {
        "id": "view-in-github",
        "colab_type": "text"
      },
      "source": [
        "<a href=\"https://colab.research.google.com/github/Parthv0ra/SparksFoundation/blob/main/task1.ipynb\" target=\"_parent\"><img src=\"https://colab.research.google.com/assets/colab-badge.svg\" alt=\"Open In Colab\"/></a>"
      ]
    },
    {
      "cell_type": "markdown",
      "metadata": {
        "id": "3JBiTarubI6z"
      },
      "source": [
        "# **Predicition using Supervised ML**\n",
        "**Author**: *Parth* *Vora*\n",
        "\n",
        "\n",
        "\n",
        "\n",
        "\n"
      ]
    },
    {
      "cell_type": "code",
      "metadata": {
        "colab": {
          "base_uri": "https://localhost:8080/",
          "height": 584
        },
        "id": "sTtgxSG7aPHL",
        "outputId": "8ca82ca0-0e28-4822-875c-64857d2033d5"
      },
      "source": [
        "import matplotlib.pyplot as plt\n",
        "from sklearn import linear_model\n",
        "import pandas as pd\n",
        "\n",
        "### Importing the dataset ###\n",
        "data = pd.read_csv(\"Dataset.csv\")\n",
        "\n",
        "print(\"Correlation:\", \"\\n\", data.corr(), \"\\n\")  # Correlation Coefficient\n",
        "\n",
        "### Converting dataset columns into separate arrays ###\n",
        "Hours = pd.DataFrame(data['Hours'])\n",
        "Scores = pd.DataFrame(data['Scores'])\n",
        "\n",
        "### Creating Linear regression model of the given dataset ###\n",
        "lm = linear_model.LinearRegression()\n",
        "model = lm.fit(Hours, Scores)\n",
        "print(\"Coefficient m:\", model.coef_, \"\\n\")\n",
        "print(\"Intercept c:\", model.intercept_, \"\\n\")\n",
        "print(\"Accuracy of the model:\", model.score(Hours, Scores), \"\\n\")\n",
        "\n",
        "### Predicting new Scores for given Hours of study ###\n",
        "Hours_new = []\n",
        "n = int(input(\"Enter number of elements: \"))\n",
        "for i in range(0, n):\n",
        "    num = float(input(\"Enter number of Hours: \"))\n",
        "    Hours_new.append(num)\n",
        "Hours_new = pd.DataFrame(Hours_new, columns=['Hours_new'])\n",
        "Scores_predicted = model.predict(Hours_new)\n",
        "Scores_predicted = pd.DataFrame(Scores_predicted, columns=['Scores_predicted'])\n",
        "df = pd.concat([Hours_new, Scores_predicted], axis=1)\n",
        "print(df)\n",
        "\n",
        "### Visualizing the Result ###\n",
        "data.plot(kind='scatter', x='Hours', y='Scores')\n",
        "# Plotting the Regression line\n",
        "plt.plot(Hours, model.predict(Hours), color='red', linewidth=2)\n",
        "# plotting the Predicted Scores\n",
        "plt.scatter(Hours_new, Scores_predicted, color='green', marker='+', linewidths=3, s=200)\n",
        "plt.legend(['Linear regression model', 'Dataset', 'Predicted Score(s)'])\n",
        "plt.title('Output')\n",
        "plt.show()"
      ],
      "execution_count": 1,
      "outputs": [
        {
          "output_type": "stream",
          "name": "stdout",
          "text": [
            "Correlation: \n",
            "            Hours    Scores\n",
            "Hours   1.000000  0.976191\n",
            "Scores  0.976191  1.000000 \n",
            "\n",
            "Coefficient m: [[9.77580339]] \n",
            "\n",
            "Intercept c: [2.48367341] \n",
            "\n",
            "Accuracy of the model: 0.9529481969048356 \n",
            "\n",
            "Enter number of elements: 2\n",
            "Enter number of Hours: 5\n",
            "Enter number of Hours: 7\n",
            "   Hours_new  Scores_predicted\n",
            "0        5.0         51.362690\n",
            "1        7.0         70.914297\n"
          ]
        },
        {
          "output_type": "display_data",
          "data": {
            "image/png": "[encoded data removed]",
            "text/plain": [
              "<Figure size 432x288 with 1 Axes>"
            ]
          },
          "metadata": {
            "needs_background": "light"
          }
        }
      ]
    }
  ]
}